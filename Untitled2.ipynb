{
  "nbformat": 4,
  "nbformat_minor": 0,
  "metadata": {
    "colab": {
      "provenance": []
    },
    "kernelspec": {
      "name": "python3",
      "display_name": "Python 3"
    },
    "language_info": {
      "name": "python"
    }
  },
  "cells": [
    {
      "cell_type": "markdown",
      "source": [
        "#1\n",
        "Function: A function is a block of reusable code defined using the `def` keyword. Functions are not tied to any particular object and can be called directly.\n",
        "  ```python\n",
        "  def greet(name):\n",
        "      return f\"Hello, {name}!\"\n",
        "  print(greet(\"XYZ\"))\n",
        "  ```\n",
        "\n",
        "Method: A method is similar to a function but is associated with an object. It operates on the object it is called upon and is defined within a class.\n",
        "  ```python\n",
        "  class Greeter:\n",
        "      def greet(self, name):\n",
        "          return f\"Hello, {name}!\"\n",
        "  greeter = Greeter()\n",
        "  print(greeter.greet(\"XYZ\"))\n",
        "  ```\n",
        "\n",
        "#2\n",
        "Parameter: Variables listed in the function definition that act as placeholders.\n",
        "  ```python\n",
        "  def greet(name):  # 'name' is a parameter\n",
        "      return f\"Hello, {name}!\"\n",
        "  ```\n",
        "  Arguments: Values provided to the function when it is called.\n",
        "  ```python\n",
        "  greet(\"Alice\")  # \"Alice\" is an argument\n",
        "  ```\n",
        "\n",
        "#3\n",
        "Defining a Function:\n",
        "  ```python\n",
        "  def add(a, b):\n",
        "      return a + b\n",
        "  ```\n",
        "\n",
        "Calling a Function:\n",
        "  ```python\n",
        "  result = add(3, 5)\n",
        "  ```\n",
        "\n",
        "Lambda Functions:\n",
        "  ```python\n",
        "  add = lambda a, b: a + b\n",
        "  result = add(3, 5)\n",
        "  ```\n",
        "\n",
        "#4\n",
        "The `return` statement is used to send a value back to the caller of the function. Without `return`, a function will return `None` by default.\n",
        "```python\n",
        "def square(x):\n",
        "    return x * x\n",
        "result = square(4)\n",
        "print(result)  # 16\n",
        "```\n",
        "\n",
        "#5\n",
        "\n",
        "Iterable: An object that can return an iterator using the `iter()` method (e.g., lists, strings, tuples).\n",
        "Iterator: An object that represents a stream of data. It implements the `__next__()` method to fetch elements one at a time.\n",
        "  ```python\n",
        "  my_list = [1, 2, 3]  # Iterable\n",
        "  iterator = iter(my_list)  # Iterator\n",
        "  print(next(iterator))  # 1\n",
        "  print(next(iterator))  # 2\n",
        "  ```\n",
        "\n",
        "#6\n",
        " Generators are a special type of iterator defined using the `yield` keyword. They allow lazy evaluation, meaning they generate values on demand.\n",
        "  ```python\n",
        "  def count_up_to(n):\n",
        "      count = 1\n",
        "      while count <= n:\n",
        "          yield count\n",
        "          count += 1\n",
        "  ```\n",
        "Usage:\n",
        "  ```python\n",
        "  for num in count_up_to(5):\n",
        "      print(num)\n",
        "  ```\n",
        "\n",
        "#7\n",
        "\n",
        "Memory Efficient: Generate values one at a time instead of storing them all in memory.\n",
        "Simpler Syntax: Easier to write compared to manually creating iterators.\n",
        "\n",
        "#8\n",
        "A lambda function is an anonymous, inline function defined using the `lambda` keyword. It is typically used for short, simple operations.\n",
        "```python\n",
        "square = lambda x: x * x\n",
        "print(square(5))  # 25\n",
        "```\n",
        "\n",
        "#9\n",
        "The `map()` function applies a given function to all elements of an iterable.\n",
        "```python\n",
        "def square(x):\n",
        "    return x * x\n",
        "numbers = [1, 2, 3, 4]\n",
        "squared = map(square, numbers)\n",
        "print(list(squared))  # [1, 4, 9, 16]\n",
        "```\n",
        "\n",
        "#10\n",
        "map(): Applies a function to each element of an iterable.\n",
        "filter(): Filters elements based on a condition.\n",
        "reduce(): Applies a function cumulatively to reduce an iterable to a single value.\n",
        "\n",
        "\n"
      ],
      "metadata": {
        "id": "SlQT6p5-woBp"
      }
    },
    {
      "cell_type": "code",
      "execution_count": 2,
      "metadata": {
        "id": "UwG3iTvBvnZd"
      },
      "outputs": [],
      "source": [
        "#1\n",
        "def sum_of_evens(numbers):\n",
        "    return sum(num for num in numbers if num % 2 == 0)\n"
      ]
    },
    {
      "cell_type": "code",
      "source": [
        "#2\n",
        "def reverse_string(s):\n",
        "    return s[::-1]"
      ],
      "metadata": {
        "id": "WhR5bjjW3BYQ"
      },
      "execution_count": 3,
      "outputs": []
    },
    {
      "cell_type": "code",
      "source": [
        "#3\n",
        "def squares_list(numbers):\n",
        "    return [num ** 2 for num in numbers]"
      ],
      "metadata": {
        "id": "2WNceRBP7Apt"
      },
      "execution_count": null,
      "outputs": []
    },
    {
      "cell_type": "code",
      "source": [
        "#4\n",
        "def is_prime(n):\n",
        "    if n <= 1:\n",
        "        return False\n",
        "    for i in range(2, int(n**0.5) + 1):\n",
        "        if n % i == 0:\n",
        "            return False\n",
        "    return True\n"
      ],
      "metadata": {
        "id": "tU6h2url7YFT"
      },
      "execution_count": null,
      "outputs": []
    },
    {
      "cell_type": "code",
      "source": [
        "#5\n",
        "class FibonacciIterator:\n",
        "    def __init__(self, num_terms):\n",
        "        self.num_terms = num_terms\n",
        "        self.current = 0\n",
        "        self.next = 1\n",
        "        self.count = 0\n",
        "\n",
        "    def __iter__(self):\n",
        "        return self\n",
        "\n",
        "    def __next__(self):\n",
        "        if self.count >= self.num_terms:\n",
        "            raise StopIteration\n",
        "        value = self.current\n",
        "        self.current, self.next = self.next, self.current + self.next\n",
        "        self.count += 1\n",
        "        return value"
      ],
      "metadata": {
        "id": "sq0i1M2-7xNC"
      },
      "execution_count": null,
      "outputs": []
    },
    {
      "cell_type": "code",
      "source": [
        "#6\n",
        "def generate_powers_of_two(max_exponent):\n",
        "    for exponent in range(max_exponent + 1):\n",
        "        yield 2 ** exponent"
      ],
      "metadata": {
        "id": "Pu3dXR776KQt"
      },
      "execution_count": null,
      "outputs": []
    },
    {
      "cell_type": "code",
      "source": [
        "#7\n",
        "def read_file_line_by_line(file_path):\n",
        "    \"\"\"Generator function to read a file line by line and yield each line as a string.\"\"\"\n",
        "    try:\n",
        "        with open(file_path, 'r') as file:\n",
        "            for line in file:\n",
        "                yield line.strip()  # Stripping to remove trailing newline characters\n",
        "    except FileNotFoundError:\n",
        "        print(f\"Error: File '{file_path}' not found.\")\n",
        "    except Exception as e:\n",
        "        print(f\"Error: {e}\")"
      ],
      "metadata": {
        "id": "IWFaxCZlW9jo"
      },
      "execution_count": 6,
      "outputs": []
    },
    {
      "cell_type": "code",
      "source": [
        "#8\n",
        "data = [(1, 5), (3, 2), (4, 8), (2, 1)]\n",
        "\n",
        "# Sorting using a lambda function\n",
        "sorted_data = sorted(data, key=lambda x: x[1])\n",
        "#8 Sample list of tuples\n",
        "data = [(1, 5), (3, 2), (4, 8), (2, 1)]\n",
        "\n",
        "# Sorting using a lambda function\n",
        "sorted_data = sorted(data, key=lambda x: x[1])\n",
        "\n",
        "# Output the sorted list\n",
        "print(sorted_data)"
      ],
      "metadata": {
        "colab": {
          "base_uri": "https://localhost:8080/"
        },
        "id": "fWo8bS25XC0J",
        "outputId": "7e0726b7-4cbf-4fee-bae0-65a69116dec4"
      },
      "execution_count": 4,
      "outputs": [
        {
          "output_type": "stream",
          "name": "stdout",
          "text": [
            "[(2, 1), (3, 2), (1, 5), (4, 8)]\n"
          ]
        }
      ]
    },
    {
      "cell_type": "code",
      "source": [
        "#9\n",
        "celsius_to_fahrenheit = lambda c: (c * 9/5) + 32\n",
        "\n",
        "# List of temperatures in Celsius\n",
        "celsius_temperatures = [0, 20, 25, 30, 35, 40]\n",
        "\n",
        "# Use map() to convert to Fahrenheit\n",
        "fahrenheit_temperatures = list(map(celsius_to_fahrenheit, celsius_temperatures))\n",
        "\n",
        "# Output the Fahrenheit temperatures\n",
        "print(f\"Temperatures in Fahrenheit: {fahrenheit_temperatures}\")"
      ],
      "metadata": {
        "colab": {
          "base_uri": "https://localhost:8080/"
        },
        "id": "hEf1TMjCXPOZ",
        "outputId": "42b1740e-03da-4694-a152-e11ea8635f4b"
      },
      "execution_count": 7,
      "outputs": [
        {
          "output_type": "stream",
          "name": "stdout",
          "text": [
            "Temperatures in Fahrenheit: [32.0, 68.0, 77.0, 86.0, 95.0, 104.0]\n"
          ]
        }
      ]
    },
    {
      "cell_type": "code",
      "source": [
        "#10\n",
        "is_not_vowel = lambda char: char.lower() not in 'aeiou'\n",
        "\n",
        "# Input string\n",
        "input_string = \"This is an example string with vowels.\"\n",
        "\n",
        "# Use filter() to remove vowels\n",
        "filtered_string = ''.join(filter(is_not_vowel, input_string))\n",
        "\n",
        "# Output the result\n",
        "print(f\"String without vowels: {filtered_string}\")\n"
      ],
      "metadata": {
        "colab": {
          "base_uri": "https://localhost:8080/"
        },
        "id": "NG6M4X10XfLU",
        "outputId": "a0b959a6-7525-44b1-c4b5-f8f93d0d8ca9"
      },
      "execution_count": 8,
      "outputs": [
        {
          "output_type": "stream",
          "name": "stdout",
          "text": [
            "String without vowels: Ths s n xmpl strng wth vwls.\n"
          ]
        }
      ]
    },
    {
      "cell_type": "code",
      "source": [
        "#11\n",
        "orders = [\n",
        "    [34587, \"Learning Python, Mark Lutz\", 4, 40.95],\n",
        "    [98762, \"Programming Python, Mark Lutz\", 5, 56.80],\n",
        "    [77226, \"Head First Python, Paul Barry\", 3, 32.95],\n",
        "    [88112, \"Einführung in Python3, Bernd Klein\", 3, 24.99],\n",
        "]\n",
        "\n",
        "# Lambda function to calculate order value\n",
        "# Adds 10 if the value is less than 100\n",
        "calculate_order = lambda order: (order[0], order[2] * order[3] + (10 if order[2] * order[3] < 100 else 0))\n",
        "\n",
        "# Use map to apply the lambda function to each order\n",
        "order_totals = list(map(calculate_order, orders))\n",
        "\n",
        "# Output the result\n",
        "print(order_totals)"
      ],
      "metadata": {
        "colab": {
          "base_uri": "https://localhost:8080/"
        },
        "id": "ZBPaSaKyXq5G",
        "outputId": "04a93f04-c5bd-47ee-8e0f-46bc67178919"
      },
      "execution_count": 9,
      "outputs": [
        {
          "output_type": "stream",
          "name": "stdout",
          "text": [
            "[(34587, 163.8), (98762, 284.0), (77226, 108.85000000000001), (88112, 84.97)]\n"
          ]
        }
      ]
    }
  ]
}